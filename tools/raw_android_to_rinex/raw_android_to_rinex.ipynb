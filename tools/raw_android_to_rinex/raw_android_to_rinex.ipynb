{
 "cells": [
  {
   "cell_type": "markdown",
   "metadata": {},
   "source": [
    "Jupyter Notebook for raw_android_to_rinex.py\n",
    "\n",
    "## Raw Android to RINEX Converter\n",
    "\n",
    "This notebook provides an interface to the `raw_android_to_rinex.py` tool, which is used to convert logs with Raw GNSS Data from Android Smartphones to RINEX format.\n",
    "\n",
    "**Note:**\n",
    "- Make sure to have the `raw_android_to_rinex.py` script available in the same directory as this notebook.\n",
    "- Provide the correct path to the log file when prompted.\n",
    "\n",
    "### Instructions:\n",
    "1. Run each cell in sequence.\n",
    "2. Enter the path to the log file when prompted.\n",
    "3. The script will be executed, and the converted RINEX file will be generated.\n",
    "\n",
    "**Usage Example:**\n",
    "```bash\n",
    "raw_android_to_rinex $(ABS_PATH)/gnsss_log.txt\n",
    "```\n",
    "\n",
    "Results in `rinex` folder."
   ]
  },
  {
   "cell_type": "markdown",
   "metadata": {},
   "source": [
    "First, check python version"
   ]
  },
  {
   "cell_type": "code",
   "execution_count": null,
   "metadata": {},
   "outputs": [],
   "source": [
    "from platform import python_version\n",
    "print(python_version())"
   ]
  },
  {
   "cell_type": "markdown",
   "metadata": {},
   "source": [
    "Get help message from tool:"
   ]
  },
  {
   "cell_type": "code",
   "execution_count": null,
   "metadata": {},
   "outputs": [],
   "source": [
    "%run src/raw_android_to_rinex.py --help"
   ]
  },
  {
   "cell_type": "markdown",
   "metadata": {},
   "source": [
    "Run GEA data sample:"
   ]
  },
  {
   "cell_type": "code",
   "execution_count": null,
   "metadata": {},
   "outputs": [],
   "source": [
    "%run src/raw_android_to_rinex.py data/gea_log_2023_11_27_17_34_00.txt"
   ]
  },
  {
   "cell_type": "markdown",
   "metadata": {},
   "source": [
    "Run GNSSLogger data sample:"
   ]
  },
  {
   "cell_type": "code",
   "execution_count": null,
   "metadata": {},
   "outputs": [],
   "source": [
    "%run src/raw_android_to_rinex.py data/gnss_log_2023_11_27_17_31_57.txt"
   ]
  }
 ],
 "metadata": {
  "kernelspec": {
   "display_name": "Python 3",
   "language": "python",
   "name": "python3"
  },
  "language_info": {
   "codemirror_mode": {
    "name": "ipython",
    "version": 3
   },
   "file_extension": ".py",
   "mimetype": "text/x-python",
   "name": "python",
   "nbconvert_exporter": "python",
   "pygments_lexer": "ipython3",
   "version": "3.8.4"
  }
 },
 "nbformat": 4,
 "nbformat_minor": 2
}
